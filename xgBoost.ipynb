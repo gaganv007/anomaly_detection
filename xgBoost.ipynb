{
  "cells": [
    {
      "cell_type": "code",
      "execution_count": null,
      "metadata": {
        "colab": {
          "base_uri": "https://localhost:8080/"
        },
        "id": "-c52d5da8LE4",
        "outputId": "7b8213b8-f72f-4be1-8196-778fdfea7bbb"
      },
      "outputs": [
        {
          "name": "stdout",
          "output_type": "stream",
          "text": [
            "Precision: 0.0528169014084507\n",
            "Recall: 0.004176721737516243\n",
            "F1-score: 0.007741269568209187\n",
            "Number of Detected Anomalies: 852\n",
            "Detected Anomalies:\n",
            "               Timestamp TransactionID AccountID    Amount   Merchant  \\\n",
            "1577    02-01-2023 10:17        TXN540     ACC15  99819.52  MerchantA   \n",
            "1766    02-01-2023 13:26        TXN443      ACC2  99758.28  MerchantA   \n",
            "1957    02-01-2023 16:37       TXN1220      ACC3  99713.22  MerchantC   \n",
            "2192    02-01-2023 20:32        TXN697     ACC11  99949.64  MerchantF   \n",
            "2505    03-01-2023 01:45       TXN1666     ACC11  99963.57  MerchantF   \n",
            "...                  ...           ...       ...       ...        ...   \n",
            "216244  31-05-2023 12:04       TXN1820     ACC15  99893.89  MerchantF   \n",
            "216291  31-05-2023 12:51       TXN1681      ACC4  99895.79  MerchantF   \n",
            "216502  31-05-2023 16:22       TXN1506     ACC12  99721.87  MerchantF   \n",
            "216595  31-05-2023 17:55        TXN132     ACC14  99852.06  MerchantF   \n",
            "216837  31-05-2023 21:57        TXN872      ACC1  99852.51  MerchantC   \n",
            "\n",
            "       TransactionType       Location  \n",
            "1577          Purchase  San Francisco  \n",
            "1766          Transfer          Tokyo  \n",
            "1957          Transfer    Los Angeles  \n",
            "2192          Purchase         London  \n",
            "2505          Purchase          Tokyo  \n",
            "...                ...            ...  \n",
            "216244        Purchase    Los Angeles  \n",
            "216291        Transfer          Tokyo  \n",
            "216502      Withdrawal    Los Angeles  \n",
            "216595        Purchase       New York  \n",
            "216837      Withdrawal          Tokyo  \n",
            "\n",
            "[852 rows x 7 columns]\n"
          ]
        }
      ],
      "source": [
        "import pandas as pd\n",
        "import xgboost as xgb\n",
        "from sklearn.impute import SimpleImputer\n",
        "from sklearn.metrics import precision_score, recall_score, f1_score\n",
        "import numpy as np\n",
        "\n",
        "data = pd.read_csv('financial_anomaly_data.csv')\n",
        "\n",
        "X = data.drop(columns=['Timestamp', 'TransactionID', 'AccountID', 'Merchant', 'TransactionType', 'Location'])\n",
        "\n",
        "imputer = SimpleImputer(strategy='mean')\n",
        "X_imputed = imputer.fit_transform(X)\n",
        "X_imputed = pd.DataFrame(X_imputed, columns=X.columns)\n",
        "\n",
        "model = xgb.XGBRegressor(objective='reg:squarederror', random_state=42)\n",
        "model.fit(X_imputed, X_imputed)\n",
        "\n",
        "predictions = model.predict(X_imputed)\n",
        "\n",
        "X_imputed = X_imputed.values.reshape(-1)\n",
        "\n",
        "errors = abs(predictions - X_imputed)\n",
        "\n",
        "mean_errors = errors.mean()\n",
        "\n",
        "threshold = mean_errors + 0.1 * errors.std()\n",
        "\n",
        "anomalies = data[errors > threshold]\n",
        "\n",
        "np.random.seed(42)\n",
        "ground_truth = np.random.choice([0, 1], size=len(data), p=[0.95, 0.05])\n",
        "\n",
        "precision = precision_score(ground_truth, errors > threshold)\n",
        "recall = recall_score(ground_truth, errors > threshold)\n",
        "f1 = f1_score(ground_truth, errors > threshold)\n",
        "\n",
        "print(\"Precision:\", precision)\n",
        "print(\"Recall:\", recall)\n",
        "print(\"F1-score:\", f1)\n",
        "\n",
        "print(\"Number of Detected Anomalies:\", len(anomalies))\n",
        "\n",
        "print(\"Detected Anomalies:\")\n",
        "print(anomalies)\n"
      ]
    }
  ],
  "metadata": {
    "colab": {
      "provenance": []
    },
    "kernelspec": {
      "display_name": "Python 3",
      "name": "python3"
    },
    "language_info": {
      "name": "python"
    }
  },
  "nbformat": 4,
  "nbformat_minor": 0
}
