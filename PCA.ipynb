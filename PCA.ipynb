{
  "cells": [
    {
      "cell_type": "code",
      "execution_count": null,
      "metadata": {
        "colab": {
          "base_uri": "https://localhost:8080/"
        },
        "id": "a9LD-r35U3zG",
        "outputId": "e6aa2fda-692d-4871-f08b-51fc7051442b"
      },
      "outputs": [
        {
          "name": "stdout",
          "output_type": "stream",
          "text": [
            "Anomalies Detection: 13\n",
            "               Timestamp TransactionID AccountID     Amount   Merchant  \\\n",
            "2775    03-01-2023 06:15       TXN1049     ACC14  978942.26  MerchantJ   \n",
            "3448    03-01-2023 17:28        TXN827     ACC12  712076.97  MerchantA   \n",
            "3453    03-01-2023 17:33       TXN1690      ACC8  489492.30  MerchantF   \n",
            "4148    04-01-2023 05:08        TXN625      ACC1  187344.37  MerchantD   \n",
            "4194    04-01-2023 05:54        TXN667      ACC3  272990.11  MerchantE   \n",
            "45099   01-02-2023 15:39       TXN1359     ACC11  151020.55  MerchantB   \n",
            "45100   01-02-2023 15:40        TXN190      ACC5  873004.79  MerchantI   \n",
            "211714  28-05-2023 08:34       TXN1920      ACC5  124103.08  MerchantB   \n",
            "211753  28-05-2023 09:13        TXN141      ACC4  223542.64  MerchantG   \n",
            "211866  28-05-2023 11:06        TXN543      ACC2  191561.95  MerchantJ   \n",
            "211959  28-05-2023 12:39       TXN1359      ACC8  616155.70  MerchantC   \n",
            "212513  28-05-2023 21:53       TXN1183      ACC7  131821.68  MerchantH   \n",
            "213460  29-05-2023 13:40       TXN1249      ACC5  689504.90  MerchantI   \n",
            "\n",
            "       TransactionType       Location  \n",
            "2775          Transfer       New York  \n",
            "3448        Withdrawal          Tokyo  \n",
            "3453          Purchase          Tokyo  \n",
            "4148          Purchase  San Francisco  \n",
            "4194          Transfer    Los Angeles  \n",
            "45099         Transfer          Tokyo  \n",
            "45100       Withdrawal    Los Angeles  \n",
            "211714        Purchase       New York  \n",
            "211753      Withdrawal  San Francisco  \n",
            "211866        Purchase  San Francisco  \n",
            "211959        Purchase       New York  \n",
            "212513        Purchase  San Francisco  \n",
            "213460        Purchase  San Francisco  \n"
          ]
        }
      ],
      "source": [
        "import numpy as np\n",
        "import pandas as pd\n",
        "from sklearn.decomposition import PCA\n",
        "from sklearn.preprocessing import StandardScaler\n",
        "\n",
        "dataset_file = 'financial_anomaly_data.csv'\n",
        "data = pd.read_csv(dataset_file)\n",
        "\n",
        "data_numeric = data.select_dtypes(include=[np.number])\n",
        "data_numeric.fillna(0, inplace=True)\n",
        "scaler = StandardScaler()\n",
        "data_scaled = scaler.fit_transform(data_numeric)\n",
        "\n",
        "n_components = min(data_scaled.shape[0], data_scaled.shape[1]) // 2\n",
        "threshold = 2.5\n",
        "\n",
        "pca = PCA(n_components=n_components)\n",
        "pca.fit(data_scaled)\n",
        "\n",
        "data_projected = pca.transform(data_scaled)\n",
        "\n",
        "reconstructed_data = pca.inverse_transform(data_projected)\n",
        "\n",
        "reconstruction_errors = np.linalg.norm(data_scaled - reconstructed_data, axis=1)\n",
        "\n",
        "anomalies_indices = np.where(reconstruction_errors > threshold)[0]\n",
        "anomalies = data.iloc[anomalies_indices]\n",
        "\n",
        "print(\"Anomalies Detection:\",len(anomalies))\n",
        "print(anomalies)"
      ]
    }
  ],
  "metadata": {
    "colab": {
      "provenance": []
    },
    "kernelspec": {
      "display_name": "Python 3",
      "name": "python3"
    },
    "language_info": {
      "name": "python"
    }
  },
  "nbformat": 4,
  "nbformat_minor": 0
}
