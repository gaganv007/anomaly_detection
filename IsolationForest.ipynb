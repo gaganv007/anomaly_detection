{
  "cells": [
    {
      "cell_type": "code",
      "execution_count": 17,
      "metadata": {
        "colab": {
          "base_uri": "https://localhost:8080/"
        },
        "id": "viIJtFU0Jj0Q",
        "outputId": "3948b699-29d9-4261-88c5-2a7324e542ed"
      },
      "outputs": [
        {
          "name": "stdout",
          "output_type": "stream",
          "text": [
            "Number of anomalies detected: 2154\n",
            "Table of anomalies:\n",
            "             Timestamp TransactionID AccountID  Amount   Merchant  \\\n",
            "3     01-01-2023 08:03       TXN1438      ACC6   87.87  MerchantE   \n",
            "142   01-01-2023 10:22        TXN831     ACC13  269.48  MerchantD   \n",
            "246   01-01-2023 12:06        TXN546     ACC14   33.75  MerchantB   \n",
            "272   01-01-2023 12:32       TXN1055      ACC7  524.47  MerchantE   \n",
            "281   01-01-2023 12:41        TXN459     ACC10  112.94  MerchantB   \n",
            "590   01-01-2023 17:50       TXN1512      ACC7  241.73  MerchantC   \n",
            "612   01-01-2023 18:12        TXN632      ACC7  446.28  MerchantG   \n",
            "674   01-01-2023 19:14       TXN1854      ACC9   11.16  MerchantI   \n",
            "748   01-01-2023 20:28       TXN1425      ACC7  209.19  MerchantB   \n",
            "1260  02-01-2023 05:00        TXN327     ACC14  280.79  MerchantC   \n",
            "\n",
            "     TransactionType       Location  \n",
            "3           Purchase         London  \n",
            "142         Purchase       New York  \n",
            "246         Transfer    Los Angeles  \n",
            "272       Withdrawal  San Francisco  \n",
            "281       Withdrawal  San Francisco  \n",
            "590         Purchase         London  \n",
            "612         Purchase          Tokyo  \n",
            "674       Withdrawal          Tokyo  \n",
            "748         Purchase         London  \n",
            "1260        Transfer  San Francisco  \n",
            "Precision: 1.0\n",
            "Recall: 1.0\n",
            "F1-score: 1.0\n"
          ]
        }
      ],
      "source": [
        "import pandas as pd\n",
        "from sklearn.ensemble import IsolationForest\n",
        "from sklearn.preprocessing import StandardScaler\n",
        "from sklearn.impute import SimpleImputer\n",
        "from sklearn.metrics import precision_score, recall_score, f1_score\n",
        "\n",
        "data = pd.read_csv(\"/content/financial_anomaly_data.csv\")\n",
        "\n",
        "\n",
        "potential_features = ['Amount']\n",
        "\n",
        "selected_features = numeric_columns  \n",
        "\n",
        "X = data[selected_features]\n",
        "\n",
        "imputer = SimpleImputer(strategy='mean')\n",
        "X_imputed = imputer.fit_transform(X)\n",
        "\n",
        "scaler = StandardScaler()\n",
        "X_scaled = scaler.fit_transform(X_imputed)\n",
        "\n",
        "model = IsolationForest(n_estimators=100, contamination=0.01, random_state=42)  \n",
        "model.fit(X_scaled)\n",
        "\n",
        "anomaly_scores = model.decision_function(X_scaled)\n",
        "\n",
        "anomalies = anomaly_scores < 0\n",
        "\n",
        "print(\"Number of anomalies detected:\", sum(anomalies))\n",
        "\n",
        "anomalies_data = data[anomalies].head(10)  \n",
        "print(\"Table of anomalies:\")\n",
        "print(anomalies_data)\n",
        "\n",
        "precision = precision_score(anomalies, anomalies, pos_label=True)  \n",
        "recall = recall_score(anomalies, anomalies, pos_label=True)  \n",
        "f1 = f1_score(anomalies, anomalies, pos_label=True)  \n",
        "\n",
        "print(\"Precision:\", precision)\n",
        "print(\"Recall:\", recall)\n",
        "print(\"F1-score:\", f1)\n"
      ]
    }
  ],
  "metadata": {
    "colab": {
      "provenance": []
    },
    "kernelspec": {
      "display_name": "Python 3",
      "name": "python3"
    },
    "language_info": {
      "name": "python"
    }
  },
  "nbformat": 4,
  "nbformat_minor": 0
}
