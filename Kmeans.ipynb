{
  "cells": [
    {
      "cell_type": "code",
      "execution_count": null,
      "metadata": {
        "colab": {
          "base_uri": "https://localhost:8080/"
        },
        "id": "rdh91dFNBiOd",
        "outputId": "3577dcc4-b97c-4770-9282-9851fa6f26fa"
      },
      "outputs": [
        {
          "name": "stderr",
          "output_type": "stream",
          "text": [
            "/usr/local/lib/python3.10/dist-packages/sklearn/cluster/_kmeans.py:870: FutureWarning: The default value of `n_init` will change from 10 to 'auto' in 1.4. Set the value of `n_init` explicitly to suppress the warning\n",
            "  warnings.warn(\n"
          ]
        },
        {
          "name": "stdout",
          "output_type": "stream",
          "text": [
            "Anomalies Detected 10\n",
            "               Timestamp TransactionID AccountID    Amount   Merchant  \\\n",
            "194474  16-05-2023 09:14         TXN52      ACC5  74772.64  MerchantD   \n",
            "88262   03-03-2023 15:02        TXN797     ACC12  74772.89  MerchantJ   \n",
            "46171   02-02-2023 09:31       TXN1502      ACC2  74773.12  MerchantB   \n",
            "53276   07-02-2023 07:56       TXN1887      ACC4  74773.63  MerchantI   \n",
            "215903  31-05-2023 06:23       TXN1473      ACC4  74773.66  MerchantB   \n",
            "190925  13-05-2023 22:05        TXN195     ACC12  74773.73  MerchantE   \n",
            "121187  26-03-2023 11:47       TXN1360     ACC13  74775.08  MerchantE   \n",
            "201579  21-05-2023 07:39       TXN1257      ACC7  74775.19  MerchantI   \n",
            "66609   16-02-2023 14:09        TXN118     ACC13  74775.68  MerchantG   \n",
            "103240  14-03-2023 00:40        TXN939     ACC11  74775.97  MerchantF   \n",
            "\n",
            "       TransactionType       Location  Cluster      Distance  \n",
            "194474      Withdrawal  San Francisco        2  87430.387111  \n",
            "88262       Withdrawal       New York        2  87430.387103  \n",
            "46171         Purchase       New York        2  87430.387095  \n",
            "53276         Transfer       New York        2  87430.387077  \n",
            "215903        Transfer          Tokyo        2  87430.387076  \n",
            "190925        Transfer    Los Angeles        2  87430.387074  \n",
            "121187      Withdrawal    Los Angeles        2  87430.387027  \n",
            "201579      Withdrawal  San Francisco        2  87430.387024  \n",
            "66609         Purchase         London        2  87430.387007  \n",
            "103240        Transfer    Los Angeles        2  87430.386997  \n"
          ]
        }
      ],
      "source": [
        "import pandas as pd\n",
        "from sklearn.cluster import KMeans\n",
        "from sklearn.preprocessing import StandardScaler\n",
        "\n",
        "data = pd.read_csv(\"financial_anomaly_data.csv\")  \n",
        "data = data.dropna()  \n",
        "numeric_data = data.select_dtypes(include=['number'])\n",
        "\n",
        "scaler = StandardScaler()\n",
        "scaled_data = scaler.fit_transform(numeric_data)\n",
        "\n",
        "k = 4  \n",
        "kmeans = KMeans(n_clusters=k, random_state=42)\n",
        "kmeans.fit(scaled_data)\n",
        "\n",
        "data['Cluster'] = kmeans.labels_\n",
        "cluster_centers = scaler.inverse_transform(kmeans.cluster_centers_)  \n",
        "\n",
        "distances = []\n",
        "for i in range(len(data)):\n",
        "    point = scaled_data[i]\n",
        "    cluster = kmeans.labels_[i]\n",
        "    center = cluster_centers[cluster]\n",
        "    distance = ((point - center) ** 2).sum() ** 0.5\n",
        "    distances.append(distance)\n",
        "\n",
        "data['Distance'] = distances\n",
        "\n",
        "\n",
        "anomalies = data.sort_values(by='Distance', ascending=False).head(10)\n",
        "print(\"Anomalies Detected\",len(anomalies))\n",
        "print(anomalies)\n"
      ]
    }
  ],
  "metadata": {
    "colab": {
      "provenance": []
    },
    "kernelspec": {
      "display_name": "Python 3",
      "name": "python3"
    },
    "language_info": {
      "name": "python"
    }
  },
  "nbformat": 4,
  "nbformat_minor": 0
}
